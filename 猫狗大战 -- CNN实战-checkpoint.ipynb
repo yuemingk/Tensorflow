{
 "cells": [
  {
   "cell_type": "markdown",
   "metadata": {},
   "source": [
    "## 1. 准备数据\n",
    "\n",
    "首先我们需很多猫和狗的图片来训练和测试我们的CNN模型。在这个例子里我们直接用的一个Kaggle题目提供的图片集。（同学们可以在Kaggle的网站上下载这个[数据集](https://www.kaggle.com/c/dogs-vs-cats)）\n",
    "\n",
    "将训练集(`train.zip`)和测试集(`test1.zip`)下载好并解压，文件的结构是这样的：\n",
    "```\n",
    "train/\n",
    "    cat.0.jpg\n",
    "    dog.0.jpg\n",
    "    cat.1.jpg\n",
    "    dog.1.jpg\n",
    "    ...\n",
    "test1/\n",
    "    1.jpg\n",
    "    2.jpg\n",
    "    ...\n",
    "```\n",
    "\n",
    "其中`train/`包含的每张图的类别（猫/狗）都通过文件名表示。下面的代码把这个数据集分成两部分，作为训练集和测试集，并把这两类的图片按照猫/狗分类整理到不同的文件夹，方便之后模型使用。运行之后的文件结构如下：\n",
    "```\n",
    "data/ (原 train/ 文件夹)\n",
    "    cat.0.jpg\n",
    "    dog.0.jpg\n",
    "    cat.1.jpg\n",
    "    dog.1.jpg\n",
    "    ...\n",
    "test1/\n",
    "    1.jpg\n",
    "    2.jpg\n",
    "    ...\n",
    "train/ (训练集)\n",
    "    cat/\n",
    "        cat.0.jpg\n",
    "        ...\n",
    "    dog/\n",
    "        dog.0.jpg\n",
    "        ...\n",
    "validation/ (测试集)\n",
    "    cat/\n",
    "        cat.1.jpg\n",
    "        ...\n",
    "    dog/\n",
    "        dog.2.jpg\n",
    "        ...\n",
    "```\n"
   ]
  },
  {
   "cell_type": "code",
   "execution_count": 1,
   "metadata": {},
   "outputs": [
    {
     "ename": "FileExistsError",
     "evalue": "[Errno 17] File exists: 'train/'",
     "output_type": "error",
     "traceback": [
      "\u001b[0;31m---------------------------------------------------------------------------\u001b[0m",
      "\u001b[0;31mFileExistsError\u001b[0m                           Traceback (most recent call last)",
      "\u001b[0;32m<ipython-input-1-60b530b9b50f>\u001b[0m in \u001b[0;36m<module>\u001b[0;34m()\u001b[0m\n\u001b[1;32m      6\u001b[0m \u001b[0mTRAIN_DIR\u001b[0m \u001b[0;34m=\u001b[0m \u001b[0;34m'train/'\u001b[0m\u001b[0;34m\u001b[0m\u001b[0m\n\u001b[1;32m      7\u001b[0m \u001b[0mVAL_DIR\u001b[0m \u001b[0;34m=\u001b[0m \u001b[0;34m'validation/'\u001b[0m\u001b[0;34m\u001b[0m\u001b[0m\n\u001b[0;32m----> 8\u001b[0;31m \u001b[0mos\u001b[0m\u001b[0;34m.\u001b[0m\u001b[0mmakedirs\u001b[0m\u001b[0;34m(\u001b[0m\u001b[0mTRAIN_DIR\u001b[0m\u001b[0;34m)\u001b[0m\u001b[0;34m\u001b[0m\u001b[0m\n\u001b[0m\u001b[1;32m      9\u001b[0m \u001b[0mos\u001b[0m\u001b[0;34m.\u001b[0m\u001b[0mmakedirs\u001b[0m\u001b[0;34m(\u001b[0m\u001b[0mVAL_DIR\u001b[0m\u001b[0;34m)\u001b[0m\u001b[0;34m\u001b[0m\u001b[0m\n\u001b[1;32m     10\u001b[0m \u001b[0;32mfor\u001b[0m \u001b[0mimage_class\u001b[0m \u001b[0;32min\u001b[0m \u001b[0;34m(\u001b[0m\u001b[0;34m'cat'\u001b[0m\u001b[0;34m,\u001b[0m \u001b[0;34m'dog'\u001b[0m\u001b[0;34m)\u001b[0m\u001b[0;34m:\u001b[0m\u001b[0;34m\u001b[0m\u001b[0m\n",
      "\u001b[0;32m~/anaconda3/lib/python3.6/os.py\u001b[0m in \u001b[0;36mmakedirs\u001b[0;34m(name, mode, exist_ok)\u001b[0m\n\u001b[1;32m    218\u001b[0m             \u001b[0;32mreturn\u001b[0m\u001b[0;34m\u001b[0m\u001b[0m\n\u001b[1;32m    219\u001b[0m     \u001b[0;32mtry\u001b[0m\u001b[0;34m:\u001b[0m\u001b[0;34m\u001b[0m\u001b[0m\n\u001b[0;32m--> 220\u001b[0;31m         \u001b[0mmkdir\u001b[0m\u001b[0;34m(\u001b[0m\u001b[0mname\u001b[0m\u001b[0;34m,\u001b[0m \u001b[0mmode\u001b[0m\u001b[0;34m)\u001b[0m\u001b[0;34m\u001b[0m\u001b[0m\n\u001b[0m\u001b[1;32m    221\u001b[0m     \u001b[0;32mexcept\u001b[0m \u001b[0mOSError\u001b[0m\u001b[0;34m:\u001b[0m\u001b[0;34m\u001b[0m\u001b[0m\n\u001b[1;32m    222\u001b[0m         \u001b[0;31m# Cannot rely on checking for EEXIST, since the operating system\u001b[0m\u001b[0;34m\u001b[0m\u001b[0;34m\u001b[0m\u001b[0m\n",
      "\u001b[0;31mFileExistsError\u001b[0m: [Errno 17] File exists: 'train/'"
     ]
    }
   ],
   "source": [
    "# 将 train/ 中猫和狗的图片按训练集/测试集和猫狗分类整理到不同的文件夹\n",
    "import os, os.path\n",
    "from sklearn.model_selection import train_test_split\n",
    "\n",
    "DATA_DIR = 'data/'\n",
    "TRAIN_DIR = 'train/'\n",
    "VAL_DIR = 'validation/'\n",
    "os.makedirs(TRAIN_DIR)\n",
    "os.makedirs(VAL_DIR)\n",
    "for image_class in ('cat', 'dog'):\n",
    "    for image_set_dir in (TRAIN_DIR, VAL_DIR):\n",
    "        os.makedirs(os.path.join(image_set_dir, image_class))\n",
    "images = [filename for filename in os.listdir(DATA_DIR) if filename.endswith('.jpg')]\n",
    "n_images = len(images)\n",
    "\n",
    "# 将所有数据随机分割为训练集 (train/) 和测试集 (validation/)。\n",
    "# test_size=0.5表示有一半的数据作为测试数据；更改random_state获得不同的分割。\n",
    "train_inds, validation_inds = train_test_split(range(n_images), test_size=0.3, random_state=3)\n",
    "train_inds = set(train_inds)\n",
    "validation_inds = set(validation_inds)\n",
    "print('训练集有', len(train_inds), '张图片,', '测试集有', len(validation_inds), '张图片')\n",
    "\n",
    "for ind, image in enumerate(images):\n",
    "    image_class = image.split('.')[0]\n",
    "    if ind in train_inds: # 将image作为训练图像\n",
    "        os.symlink(\n",
    "            os.path.abspath(os.path.join(DATA_DIR, image)), \n",
    "            os.path.abspath(os.path.join(TRAIN_DIR, image_class, image)))\n",
    "    else: # 将image作为测试图像\n",
    "        os.symlink(\n",
    "            os.path.abspath(os.path.join(DATA_DIR, image)), \n",
    "            os.path.abspath(os.path.join(VAL_DIR, image_class, image)))\n"
   ]
  },
  {
   "cell_type": "markdown",
   "metadata": {},
   "source": [
    "`test1/`文件夹里的图片的类别（猫/狗）没有给出，无法用于我们的模型训练和测试。感兴趣的同学，可以把自己的模型在这个图片集上的结果上传到Kaggle；Kaggle会算出你的准确率和在其他参赛者中间的排名，让你和世界各地的人工智能工程师一较高下。"
   ]
  },
  {
   "cell_type": "markdown",
   "metadata": {},
   "source": [
    "为了之后训练和测试模型，我们需要将图像读取到程序中，并将每张图片缩放到相同的大小 `150x150`（**因为我们的简单CNN模型只能接受相同大小的图片**）。Keras里现成的工具`ImageDataGenerator`很容易达到这个目的。\n",
    "\n",
    "`ImageDataGenerator`有各种好处：\n",
    "- 对图像作简单的预处理（如缩放，改变像素值范围）\n",
    "- 训练神经网络时经常需要将数据分成小的批次（例如每16张图像作为一个批次提供给神经网络），在`ImageDataGenerator`中很容易实现（只需要简单提供一个参数 `batch_size = 16`）\n",
    "- 随机打乱图像顺序，并且在图像集上无限循环（不会出现数据用完的情况）\n",
    "- 对图像加入扰动，大大增大数据量，避免多次输入相同的训练图像产生过拟合（之后会用到）\n",
    "\n",
    "TODO: explain image data augmentation, show example"
   ]
  },
  {
   "cell_type": "code",
   "execution_count": null,
   "metadata": {},
   "outputs": [
    {
     "name": "stderr",
     "output_type": "stream",
     "text": [
      "Using TensorFlow backend.\n"
     ]
    },
    {
     "name": "stdout",
     "output_type": "stream",
     "text": [
      "Found 17500 images belonging to 2 classes.\n",
      "Found 7500 images belonging to 2 classes.\n"
     ]
    }
   ],
   "source": [
    "from keras.preprocessing.image import ImageDataGenerator\n",
    "\n",
    "batch_size = 32 # 训练时每个批次包含图片个数\n",
    "image_size = (150, 150) # 所有图片被缩放到 150x150\n",
    "\n",
    "# train_datagen = ImageDataGenerator(\n",
    "#     rescale=1./255 # 将每个像素值乘以 1./255，使得像素取值范围从[0,255]变成[0,1]\n",
    "# )\n",
    "\n",
    "train_datagen = ImageDataGenerator(\n",
    "    rescale=1./255, # 将每个像素值乘以 1./255，使得像素取值范围从[0,255]变成[0,1]\n",
    "    shear_range=0.1, # 0.2\n",
    "    zoom_range=0.1, # 0.2\n",
    "    rotation_range=30, # 30\n",
    "    horizontal_flip=True,\n",
    "    width_shift_range=0.1, # 0, 0.1\n",
    "    height_shift_range=0.1, # 0 0.1\n",
    ")\n",
    "\n",
    "\n",
    "train_generator = train_datagen.flow_from_directory(\n",
    "    TRAIN_DIR,  # 训练图片所在位置\n",
    "    target_size=image_size,\n",
    "    batch_size=batch_size, \n",
    "    class_mode='binary',\n",
    "    classes=['cat', 'dog']\n",
    ")\n",
    "\n",
    "validation_datagen = ImageDataGenerator(\n",
    "    rescale=1./255 # 将每个像素值乘以 1./255，使得像素取值范围从[0,255]变成[0,1]\n",
    ")\n",
    "\n",
    "validation_generator = validation_datagen.flow_from_directory(\n",
    "    VAL_DIR,  # 测试图片所在位置\n",
    "    target_size=image_size,\n",
    "    batch_size=batch_size, \n",
    "    class_mode='binary',\n",
    "    classes=['cat', 'dog']\n",
    ")"
   ]
  },
  {
   "cell_type": "markdown",
   "metadata": {},
   "source": [
    "## 2. 建立模型\n",
    "\n",
    "之前我们见到的神经网络(MLP)包括以下不同的层：\n",
    "- 全连接层 (Fully-Connected)\n",
    "- 激活函数 (Activation)\n",
    "\n",
    "而在CNN和MLP的主要区别在于它包含一些其他的层：\n",
    "- 卷积层（Convolution）\n",
    "- 池化层（Pooling）\n",
    "\n",
    "在这个实例里，我们还会见到一些其他的起辅助作用的层：\n",
    "- 批规范化（Batch Normalization）\n",
    "- Dropout\n",
    "\n",
    "TODO: make figure showing architecture of network"
   ]
  },
  {
   "cell_type": "code",
   "execution_count": 12,
   "metadata": {
    "scrolled": true
   },
   "outputs": [
    {
     "name": "stdout",
     "output_type": "stream",
     "text": [
      "_________________________________________________________________\n",
      "Layer (type)                 Output Shape              Param #   \n",
      "=================================================================\n",
      "input_6 (InputLayer)         (None, 150, 150, 3)       0         \n",
      "_________________________________________________________________\n",
      "conv2d_21 (Conv2D)           (None, 148, 148, 64)      1792      \n",
      "_________________________________________________________________\n",
      "batch_normalization_26 (Batc (None, 148, 148, 64)      256       \n",
      "_________________________________________________________________\n",
      "activation_31 (Activation)   (None, 148, 148, 64)      0         \n",
      "_________________________________________________________________\n",
      "max_pooling2d_21 (MaxPooling (None, 74, 74, 64)        0         \n",
      "_________________________________________________________________\n",
      "conv2d_22 (Conv2D)           (None, 72, 72, 64)        36928     \n",
      "_________________________________________________________________\n",
      "batch_normalization_27 (Batc (None, 72, 72, 64)        256       \n",
      "_________________________________________________________________\n",
      "activation_32 (Activation)   (None, 72, 72, 64)        0         \n",
      "_________________________________________________________________\n",
      "max_pooling2d_22 (MaxPooling (None, 36, 36, 64)        0         \n",
      "_________________________________________________________________\n",
      "conv2d_23 (Conv2D)           (None, 34, 34, 128)       73856     \n",
      "_________________________________________________________________\n",
      "batch_normalization_28 (Batc (None, 34, 34, 128)       512       \n",
      "_________________________________________________________________\n",
      "activation_33 (Activation)   (None, 34, 34, 128)       0         \n",
      "_________________________________________________________________\n",
      "max_pooling2d_23 (MaxPooling (None, 17, 17, 128)       0         \n",
      "_________________________________________________________________\n",
      "conv2d_24 (Conv2D)           (None, 15, 15, 128)       147584    \n",
      "_________________________________________________________________\n",
      "batch_normalization_29 (Batc (None, 15, 15, 128)       512       \n",
      "_________________________________________________________________\n",
      "activation_34 (Activation)   (None, 15, 15, 128)       0         \n",
      "_________________________________________________________________\n",
      "max_pooling2d_24 (MaxPooling (None, 7, 7, 128)         0         \n",
      "_________________________________________________________________\n",
      "flatten_6 (Flatten)          (None, 6272)              0         \n",
      "_________________________________________________________________\n",
      "dense_11 (Dense)             (None, 64)                401472    \n",
      "_________________________________________________________________\n",
      "batch_normalization_30 (Batc (None, 64)                256       \n",
      "_________________________________________________________________\n",
      "activation_35 (Activation)   (None, 64)                0         \n",
      "_________________________________________________________________\n",
      "dropout_6 (Dropout)          (None, 64)                0         \n",
      "_________________________________________________________________\n",
      "dense_12 (Dense)             (None, 1)                 65        \n",
      "_________________________________________________________________\n",
      "activation_36 (Activation)   (None, 1)                 0         \n",
      "=================================================================\n",
      "Total params: 663,489\n",
      "Trainable params: 662,593\n",
      "Non-trainable params: 896\n",
      "_________________________________________________________________\n"
     ]
    }
   ],
   "source": [
    "import keras\n",
    "from keras.layers import Conv2D, MaxPooling2D, Activation, Dense, Flatten, Dropout, BatchNormalization, Input\n",
    "from keras.models import Model\n",
    "\n",
    "# TODO: find good cnn from kaggle forum\n",
    "\n",
    "n_channels = 3 # 3个通道对应红，绿，蓝三种颜色\n",
    "input_shape = (*image_size, n_channels)\n",
    "\n",
    "input_layer = Input(input_shape)\n",
    "z = input_layer\n",
    "z = Conv2D(64, (3, 3))(z)\n",
    "z = BatchNormalization()(z)\n",
    "z = Activation('relu')(z)\n",
    "z = MaxPooling2D(pool_size=(2, 2))(z)\n",
    "\n",
    "z = Conv2D(64, (3, 3))(z)\n",
    "z = BatchNormalization()(z)\n",
    "z = Activation('relu')(z)\n",
    "z = MaxPooling2D(pool_size=(2, 2))(z)\n",
    "\n",
    "z = Conv2D(128, (3, 3))(z)\n",
    "z = BatchNormalization()(z)\n",
    "z = Activation('relu')(z)\n",
    "z = MaxPooling2D(pool_size=(2, 2))(z)\n",
    "\n",
    "z = Conv2D(128, (3, 3))(z)\n",
    "z = BatchNormalization()(z)\n",
    "z = Activation('relu')(z)\n",
    "z = MaxPooling2D(pool_size=(2, 2))(z)\n",
    "\n",
    "z = Flatten()(z) # 将特征变成一维向量\n",
    "z = Dense(64)(z)\n",
    "z = BatchNormalization()(z)\n",
    "z = Activation('relu')(z)\n",
    "z = Dropout(0.5)(z)\n",
    "z = Dense(1)(z)\n",
    "z = Activation('sigmoid')(z)\n",
    "\n",
    "model = Model(input_layer, z)\n",
    "\n",
    "model.compile(\n",
    "    optimizer=keras.optimizers.RMSprop(),\n",
    "    loss=keras.losses.binary_crossentropy, \n",
    "    metrics=[keras.metrics.binary_accuracy]\n",
    ")\n",
    "\n",
    "model.summary() # 显示网络的结构"
   ]
  },
  {
   "cell_type": "markdown",
   "metadata": {},
   "source": [
    "之前的准备工作做了这么久，终于可以训练我们的模型了！上面准备了两个`ImageDataGenerator`：`train_generator`和`validation_generator`。`train_generator`用来提供训练数据，而每个阶段的训练完成后，我们会用`validation_generator`产生的数据来检验模型在测试集上的表现。\n",
    "\n",
    "\n",
    "TODO: explain epochs"
   ]
  },
  {
   "cell_type": "code",
   "execution_count": null,
   "metadata": {
    "scrolled": true
   },
   "outputs": [
    {
     "name": "stdout",
     "output_type": "stream",
     "text": [
      "Epoch 1/10\n",
      "34s - loss: 0.7997 - binary_accuracy: 0.5479 - val_loss: 0.6913 - val_binary_accuracy: 0.5212\n",
      "Epoch 2/10\n",
      "30s - loss: 0.7160 - binary_accuracy: 0.6164 - val_loss: 0.7371 - val_binary_accuracy: 0.5375\n",
      "Epoch 3/10\n"
     ]
    }
   ],
   "source": [
    "epochs=10 # 50个训练阶段\n",
    "\n",
    "train_history = model.fit_generator(\n",
    "    train_generator, # 训练数据\n",
    "    steps_per_epoch=2000 // batch_size, # 每个epoch用2000张图片训练\n",
    "    epochs=epochs,\n",
    "    validation_data=validation_generator, # 每个阶段完成后，用来测试的数据\n",
    "    validation_steps=800 // batch_size, # 每个epoch用800张图片测试\n",
    "    verbose=2, # 训练过程中显示简要的信息\n",
    ")\n",
    "model.save_weights('easy_model.h5')  # 保存模型"
   ]
  },
  {
   "cell_type": "markdown",
   "metadata": {},
   "source": [
    "训练完成了，画图来看一下目标函数和准确率随着训练过程的变化"
   ]
  },
  {
   "cell_type": "code",
   "execution_count": null,
   "metadata": {
    "collapsed": true
   },
   "outputs": [],
   "source": [
    "import matplotlib.pyplot as plt\n",
    "%matplotlib inline\n",
    "\n",
    "plt.figure()\n",
    "epoch_inds = range(1, epochs + 1)\n",
    "plt.plot(epoch_inds, train_history.history['loss'])\n",
    "plt.plot(epoch_inds, train_history.history['val_loss'])\n",
    "plt.grid()\n",
    "plt.legend(['Train', 'Test'])\n",
    "plt.xlabel('Epoch')\n",
    "plt.ylabel('Loss')\n",
    "\n",
    "plt.figure()\n",
    "epoch_inds = range(1, epochs + 1)\n",
    "plt.plot(epoch_inds, train_history.history['binary_accuracy'])\n",
    "plt.plot(epoch_inds, train_history.history['val_binary_accuracy'])\n",
    "plt.grid()\n",
    "plt.legend(['Train', 'Test'])\n",
    "plt.xlabel('Epoch')\n",
    "plt.ylabel('Accuracy')"
   ]
  },
  {
   "cell_type": "markdown",
   "metadata": {},
   "source": [
    "## 3. 特征可视化\n",
    "\n",
    "TODO: 展示第一层特征图，比较不同方法，观察捕捉到的特征"
   ]
  },
  {
   "cell_type": "code",
   "execution_count": null,
   "metadata": {
    "collapsed": true
   },
   "outputs": [],
   "source": [
    "visualization_model = Model(input_layer, model.layers[2].output)"
   ]
  },
  {
   "cell_type": "code",
   "execution_count": null,
   "metadata": {},
   "outputs": [],
   "source": [
    "example = validation_generator.next()[0][0,:,:,:]\n",
    "plt.imshow(example)\n",
    "example_features = visualization_model.predict(example.reshape(1,150,150,3))"
   ]
  },
  {
   "cell_type": "code",
   "execution_count": null,
   "metadata": {},
   "outputs": [],
   "source": [
    "f, axarr = plt.subplots(4, 8)\n",
    "\n",
    "for i in range(32):\n",
    "    feature_map = example_features[0,:,:,i]\n",
    "    row = i // 8\n",
    "    col = i % 8\n",
    "    axarr[row, col].imshow(feature_map, cmap='jet', interpolation='nearest')\n",
    "    axarr[row, col].axis('off')"
   ]
  },
  {
   "cell_type": "markdown",
   "metadata": {},
   "source": [
    "## 4. 迁移学习 (optional)\n",
    "\n",
    "下面我们通过迁移VGG16这一经典网络结构来解决猫狗分类问题。同时我们增大难度，只使用2000张训练图像和800张测试图像。\n",
    "\n",
    "https://gist.github.com/fchollet/f35fbc80e066a49d65f1688a7e99f069"
   ]
  },
  {
   "cell_type": "code",
   "execution_count": null,
   "metadata": {
    "collapsed": true
   },
   "outputs": [],
   "source": [
    "import numpy as np\n",
    "\n",
    "from keras import applications\n",
    "from keras.preprocessing.image import ImageDataGenerator\n",
    "from sklearn.externals import joblib\n",
    "import keras\n",
    "\n",
    "from keras.layers import Dense, Activation, Flatten, Dropout, Input\n",
    "from keras.models import Model\n",
    "\n",
    "%matplotlib inline\n",
    "import matplotlib.pyplot as plt"
   ]
  },
  {
   "cell_type": "code",
   "execution_count": null,
   "metadata": {
    "collapsed": true
   },
   "outputs": [],
   "source": [
    "# 读取VGG模型及其在imagenet上训练的参数\n",
    "vgg = applications.VGG16(include_top=False, weights='imagenet')"
   ]
  },
  {
   "cell_type": "code",
   "execution_count": null,
   "metadata": {
    "collapsed": true
   },
   "outputs": [],
   "source": [
    "# 准备数据: 预先计算所有训练图像和测试图像的VGG编码以减少训练时间\n",
    "img_width, img_height = 150, 150\n",
    "nb_train_samples = 2000\n",
    "nb_validation_samples = 800\n",
    "epochs = 50\n",
    "batch_size = 16\n",
    "feature_size = (4, 4, 512)\n",
    "\n",
    "datagen = ImageDataGenerator(rescale=1. / 255)\n",
    "\n",
    "train_gen = datagen.flow_from_directory(\n",
    "    'train/',\n",
    "    target_size=(img_width, img_height),\n",
    "    batch_size=batch_size,\n",
    "    class_mode='sparse',\n",
    "    classes=['cat', 'dog'])\n",
    "\n",
    "train_features = np.zeros(shape=(0,) +  feature_size, dtype='float32')\n",
    "train_labels = np.zeros(shape=(0,), dtype='int32')\n",
    "\n",
    "for _ in range(nb_train_samples // batch_size):\n",
    "    inputs, labels = train_gen.next()\n",
    "    train_features = np.concatenate((train_features, vgg.predict(inputs)))\n",
    "    train_labels = np.concatenate((train_labels, labels))\n",
    "\n",
    "val_gen = datagen.flow_from_directory(\n",
    "    'validation/',\n",
    "    target_size=(img_width, img_height),\n",
    "    batch_size=batch_size,\n",
    "    class_mode='sparse',\n",
    "    classes=['cat', 'dog'])\n",
    "\n",
    "val_features = np.zeros(shape=(0,) +  feature_size, dtype='float32')\n",
    "val_labels = np.zeros(shape=(0,), dtype='int32')\n",
    "\n",
    "for _ in range(nb_validation_samples // batch_size):\n",
    "    inputs, labels = val_gen.next()\n",
    "    val_features = np.concatenate((val_features, vgg.predict(inputs)))\n",
    "    val_labels = np.concatenate((val_labels, labels))\n",
    "    \n",
    "joblib.dump(((train_features, train_labels), (val_features, val_labels)), 'transfer_data.pkl')"
   ]
  },
  {
   "cell_type": "code",
   "execution_count": null,
   "metadata": {},
   "outputs": [],
   "source": [
    "input_node = Input(shape=feature_size)\n",
    "z = input_node\n",
    "z = Flatten()(z)\n",
    "z = Dense(256)(z)\n",
    "z = Activation('relu')(z)\n",
    "z = Dropout(0.5)(z)\n",
    "z = Dense(1)(z)\n",
    "z = Activation('sigmoid')(z)\n",
    "\n",
    "model = Model(input_node, z)\n",
    "model.compile(\n",
    "    loss=keras.losses.binary_crossentropy,\n",
    "    optimizer=keras.optimizers.RMSprop(),\n",
    "    metrics=['accuracy']\n",
    ")\n",
    "\n",
    "model.summary()"
   ]
  },
  {
   "cell_type": "code",
   "execution_count": null,
   "metadata": {
    "collapsed": true
   },
   "outputs": [],
   "source": [
    "info = model.fit(train_features, train_labels, \n",
    "          validation_data=(val_features, val_labels),\n",
    "          epochs=epochs,\n",
    "          batch_size=batch_size,\n",
    "          verbose=1\n",
    ")\n",
    "\n",
    "model.save('transfer_top_weights.h5')"
   ]
  },
  {
   "cell_type": "code",
   "execution_count": 71,
   "metadata": {},
   "outputs": [
    {
     "data": {
      "image/png": "[encoded data removed]",
      "text/plain": [
       "<matplotlib.figure.Figure at 0x7fbb23713e80>"
      ]
     },
     "metadata": {},
     "output_type": "display_data"
    }
   ],
   "source": [
    "epoch_inds = list(range(1, epochs + 1))\n",
    "plt.plot(epoch_inds, info.history['acc'])\n",
    "plt.plot(epoch_inds, info.history['val_acc'])\n",
    "plt.xlabel('epoch')\n",
    "plt.ylabel('accuracy')\n",
    "plt.legend(['train', 'val'])\n",
    "plt.grid()"
   ]
  },
  {
   "cell_type": "markdown",
   "metadata": {},
   "source": [
    "现在用较少的数据就可以到90%准确率，效果提升不少！"
   ]
  }
 ],
 "metadata": {
  "kernelspec": {
   "display_name": "Python 3",
   "language": "python",
   "name": "python3"
  },
  "language_info": {
   "codemirror_mode": {
    "name": "ipython",
    "version": 3
   },
   "file_extension": ".py",
   "mimetype": "text/x-python",
   "name": "python",
   "nbconvert_exporter": "python",
   "pygments_lexer": "ipython3",
   "version": "3.5.5"
  }
 },
 "nbformat": 4,
 "nbformat_minor": 2
}
